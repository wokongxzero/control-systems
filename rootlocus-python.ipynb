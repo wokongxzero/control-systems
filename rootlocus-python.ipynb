{
 "cells": [
  {
   "cell_type": "code",
   "execution_count": 1,
   "metadata": {},
   "outputs": [
    {
     "name": "stdout",
     "output_type": "stream",
     "text": [
      "Requirement already satisfied: stable-baselines3 in c:\\users\\harna\\anaconda3\\lib\\site-packages (1.6.2)\n",
      "Requirement already satisfied: gym==0.21 in c:\\users\\harna\\anaconda3\\lib\\site-packages (from stable-baselines3) (0.21.0)\n",
      "Requirement already satisfied: numpy in c:\\users\\harna\\anaconda3\\lib\\site-packages (from stable-baselines3) (1.21.6)\n",
      "Requirement already satisfied: pandas in c:\\users\\harna\\anaconda3\\lib\\site-packages (from stable-baselines3) (1.3.5)\n",
      "Requirement already satisfied: torch>=1.11 in c:\\users\\harna\\anaconda3\\lib\\site-packages (from stable-baselines3) (1.13.0)\n",
      "Requirement already satisfied: importlib-metadata~=4.13 in c:\\users\\harna\\anaconda3\\lib\\site-packages (from stable-baselines3) (4.13.0)\n",
      "Requirement already satisfied: cloudpickle in c:\\users\\harna\\anaconda3\\lib\\site-packages (from stable-baselines3) (2.0.0)\n",
      "Requirement already satisfied: matplotlib in c:\\users\\harna\\anaconda3\\lib\\site-packages (from stable-baselines3) (3.5.3)\n",
      "Requirement already satisfied: typing-extensions>=3.6.4 in c:\\users\\harna\\anaconda3\\lib\\site-packages (from importlib-metadata~=4.13->stable-baselines3) (4.4.0)\n",
      "Requirement already satisfied: zipp>=0.5 in c:\\users\\harna\\anaconda3\\lib\\site-packages (from importlib-metadata~=4.13->stable-baselines3) (3.10.0)\n",
      "Requirement already satisfied: python-dateutil>=2.7 in c:\\users\\harna\\anaconda3\\lib\\site-packages (from matplotlib->stable-baselines3) (2.8.2)\n",
      "Requirement already satisfied: fonttools>=4.22.0 in c:\\users\\harna\\anaconda3\\lib\\site-packages (from matplotlib->stable-baselines3) (4.25.0)\n",
      "Requirement already satisfied: pillow>=6.2.0 in c:\\users\\harna\\anaconda3\\lib\\site-packages (from matplotlib->stable-baselines3) (9.2.0)\n",
      "Requirement already satisfied: kiwisolver>=1.0.1 in c:\\users\\harna\\anaconda3\\lib\\site-packages (from matplotlib->stable-baselines3) (1.4.2)\n",
      "Requirement already satisfied: packaging>=20.0 in c:\\users\\harna\\anaconda3\\lib\\site-packages (from matplotlib->stable-baselines3) (21.3)\n",
      "Requirement already satisfied: cycler>=0.10 in c:\\users\\harna\\anaconda3\\lib\\site-packages (from matplotlib->stable-baselines3) (0.11.0)\n",
      "Requirement already satisfied: pyparsing>=2.2.1 in c:\\users\\harna\\anaconda3\\lib\\site-packages (from matplotlib->stable-baselines3) (3.0.9)\n",
      "Requirement already satisfied: pytz>=2017.3 in c:\\users\\harna\\anaconda3\\lib\\site-packages (from pandas->stable-baselines3) (2022.1)\n",
      "Requirement already satisfied: six>=1.5 in c:\\users\\harna\\anaconda3\\lib\\site-packages (from python-dateutil>=2.7->matplotlib->stable-baselines3) (1.16.0)\n",
      "Note: you may need to restart the kernel to use updated packages.\n"
     ]
    },
    {
     "name": "stderr",
     "output_type": "stream",
     "text": [
      "\n",
      "[notice] A new release of pip available: 22.3 -> 22.3.1\n",
      "[notice] To update, run: python.exe -m pip install --upgrade pip\n"
     ]
    },
    {
     "name": "stdout",
     "output_type": "stream",
     "text": [
      "Requirement already satisfied: PID in c:\\users\\harna\\anaconda3\\lib\\site-packages (3.0.4)\n",
      "Requirement already satisfied: psutil>=5.4.8 in c:\\users\\harna\\anaconda3\\lib\\site-packages (from PID) (5.9.0)\n",
      "Note: you may need to restart the kernel to use updated packages.\n"
     ]
    },
    {
     "name": "stderr",
     "output_type": "stream",
     "text": [
      "\n",
      "[notice] A new release of pip available: 22.3 -> 22.3.1\n",
      "[notice] To update, run: python.exe -m pip install --upgrade pip\n"
     ]
    }
   ],
   "source": [
    "%pip install stable-baselines3\n",
    "%pip install PID"
   ]
  },
  {
   "cell_type": "code",
   "execution_count": 2,
   "metadata": {},
   "outputs": [],
   "source": [
    "\n",
    "import numpy as np\n",
    "import matplotlib.pyplot as plt\n",
    "import seaborn as sns"
   ]
  },
  {
   "cell_type": "code",
   "execution_count": 3,
   "metadata": {},
   "outputs": [],
   "source": [
    "def transfer_function(num, denum):\n",
    "  \"\"\"Pads list of poles and zeros.\n",
    "    Assumes `num` < `denum`.\n",
    "    Args:\n",
    "      num: coefficients of the zeros [coeff_n, coeff_(n-1), ..., coeff_0]\n",
    "      denum: coefficients of the poles: [coeff_n, coeff_(n-1), ..., coeff_0]\n",
    "    Returns:\n",
    "      tf: 2D numpy array [num, denum]\n",
    "  \"\"\"\n",
    "  num = np.array(num, dtype=np.float64)\n",
    "  denum = np.array(denum, dtype=np.float64)\n",
    "  size = len(denum) - len(num)\n",
    "  temp = np.zeros(size)\n",
    "  num = np.concatenate((temp, num))\n",
    "  tf = np.vstack((num, denum))\n",
    "  return tf"
   ]
  },
  {
   "cell_type": "code",
   "execution_count": 4,
   "metadata": {},
   "outputs": [],
   "source": [
    "def compute_roots(tf, gains):\n",
    "  \"\"\"Computes the roots of the characteristic equation of the closed-loop system\n",
    "  of a given transfer function for a list of gain parameters.\n",
    "  Concretely, given TF = zeros/poles, and a gain value K, we solve for the\n",
    "  characteristic equation roots, that is the roots of poles + (K * zeros).\n",
    "  Args:\n",
    "    tf: transfer function.\n",
    "    gains: list of gains.\n",
    "  Returns:\n",
    "    roots: numpy array containing the roots for each gain in gains.\n",
    "  \"\"\"\n",
    "  num, denum = tf[0], tf[1]\n",
    "  num_roots = len(np.roots(denum))\n",
    "  roots = []\n",
    "\n",
    "  for gain in gains:\n",
    "    ch_eq = denum +  gain*num\n",
    "    ch_roots = np.roots(ch_eq)\n",
    "    ch_roots.sort()\n",
    "    roots.append(ch_roots)\n",
    "\n",
    "  # convert final roots list into array\n",
    "  roots = np.vstack(roots)\n",
    "\n",
    "  return roots"
   ]
  },
  {
   "cell_type": "code",
   "execution_count": 5,
   "metadata": {},
   "outputs": [],
   "source": [
    "def plot_root_locus(gains, roots):\n",
    "  \"\"\"Plots the root locus of the closed loop system given the provided gains.\n",
    "  \"\"\"\n",
    "  # get real and imaginary values\n",
    "  real_vals = np.real(roots)\n",
    "  imag_vals = np.imag(roots)\n",
    "\n",
    "  # possible colors\n",
    "  colors = ['b', 'm', 'c', 'r', 'g']\n",
    "\n",
    "  # create figure and axis labels\n",
    "  fig, ax = plt.subplots()\n",
    "  ax.set_xlabel('Re')\n",
    "  ax.set_ylabel('Im')\n",
    "  ax.axvline(x=0, color='k', lw=1)\n",
    "  ax.grid(True, which='both')\n",
    "\n",
    "  # plots a blue \"x\" for the first roots\n",
    "  ax.scatter(real_vals[0, :], imag_vals[0, :],\n",
    "          marker='x',\n",
    "          color='blue')\n",
    "\n",
    "  # plots a red \"o\" for the last roots\n",
    "  ax.scatter(real_vals[-1, :], imag_vals[-1, :],\n",
    "          marker='o',\n",
    "          color='red')\n",
    "\n",
    "  gain_text = ['k = {:1.2f}'.format(k) for k in gains]\n",
    "\n",
    "  temp_real_vals = real_vals[1:-1, :]\n",
    "  temp_imag_vals = imag_vals[1:-1, :]\n",
    "  color_range = range(temp_real_vals.shape[1])\n",
    "\n",
    "  # plot the rest of the roots in different colors with respect to the regions\n",
    "  for r, i, j in zip(temp_real_vals.T, temp_imag_vals.T, color_range):\n",
    "    ax.plot(r, i, color=colors[j])\n",
    "\n",
    "  return fig, ax"
   ]
  },
  {
   "cell_type": "code",
   "execution_count": 7,
   "metadata": {},
   "outputs": [
    {
     "data": {
      "image/png": "[encoded data removed]",
      "text/plain": [
       "<Figure size 640x480 with 1 Axes>"
      ]
     },
     "metadata": {},
     "output_type": "display_data"
    }
   ],
   "source": [
    "if __name__ == \"__main__\":\n",
    "  # open loop transfer function\n",
    "  num = [1, 4.25,2]\n",
    "  denum = [1, 10.5, 32, 44.5, 21]\n",
    "  GH = transfer_function(num, denum)\n",
    "\n",
    "  # create a list of evenly spaced gains\n",
    "  gains = np.linspace(0.0, 10.0, num=500)\n",
    "\n",
    "  roots = compute_roots(GH, gains)\n",
    "  fig, ax = plot_root_locus(gains, roots)\n",
    "  plt.show()"
   ]
  }
 ],
 "metadata": {
  "kernelspec": {
   "display_name": "Python 3.7.15 ('base')",
   "language": "python",
   "name": "python3"
  },
  "language_info": {
   "codemirror_mode": {
    "name": "ipython",
    "version": 3
   },
   "file_extension": ".py",
   "mimetype": "text/x-python",
   "name": "python",
   "nbconvert_exporter": "python",
   "pygments_lexer": "ipython3",
   "version": "3.7.15"
  },
  "orig_nbformat": 4,
  "vscode": {
   "interpreter": {
    "hash": "3900701194d40f4428bfa582962d45228b3fdfcebd4e518d10dfa95380a9c8d7"
   }
  }
 },
 "nbformat": 4,
 "nbformat_minor": 2
}
